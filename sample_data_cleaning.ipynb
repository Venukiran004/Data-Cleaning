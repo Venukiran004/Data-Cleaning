{
 "cells": [
  {
   "cell_type": "markdown",
   "metadata": {},
   "source": [
    "# DATA Cleaning"
   ]
  },
  {
   "cell_type": "code",
   "execution_count": 1,
   "metadata": {},
   "outputs": [],
   "source": [
    "import pandas as pd\n",
    "import numpy as np"
   ]
  },
  {
   "cell_type": "markdown",
   "metadata": {},
   "source": [
    "## load raw data with first row header , and skip the first row"
   ]
  },
  {
   "cell_type": "code",
   "execution_count": 2,
   "metadata": {},
   "outputs": [],
   "source": [
    "my_data=pd.read_excel(r\"C:\\Users\\venuk\\OneDrive\\Desktop\\assignment\\Sample Data.xlsx\",skiprows=1)"
   ]
  },
  {
   "cell_type": "code",
   "execution_count": 3,
   "metadata": {},
   "outputs": [],
   "source": [
    "my_data_rows=my_data.head(0)\n",
    "my_data_rows=list(my_data_rows)"
   ]
  },
  {
   "cell_type": "code",
   "execution_count": 4,
   "metadata": {},
   "outputs": [],
   "source": [
    "my_data.columns = [''] * len(my_data.columns)"
   ]
  },
  {
   "cell_type": "code",
   "execution_count": 5,
   "metadata": {},
   "outputs": [],
   "source": [
    "my_data.columns=my_data_rows"
   ]
  },
  {
   "cell_type": "code",
   "execution_count": 6,
   "metadata": {},
   "outputs": [
    {
     "data": {
      "text/html": [
       "<div>\n",
       "<style scoped>\n",
       "    .dataframe tbody tr th:only-of-type {\n",
       "        vertical-align: middle;\n",
       "    }\n",
       "\n",
       "    .dataframe tbody tr th {\n",
       "        vertical-align: top;\n",
       "    }\n",
       "\n",
       "    .dataframe thead th {\n",
       "        text-align: right;\n",
       "    }\n",
       "</style>\n",
       "<table border=\"1\" class=\"dataframe\">\n",
       "  <thead>\n",
       "    <tr style=\"text-align: right;\">\n",
       "      <th></th>\n",
       "      <th>Patient Name</th>\n",
       "      <th>SSN</th>\n",
       "      <th>Age</th>\n",
       "      <th>Gender</th>\n",
       "      <th>Pregnant</th>\n",
       "      <th>Address</th>\n",
       "      <th>Allergy With</th>\n",
       "      <th>Allergy Affects</th>\n",
       "      <th>Insurance Name</th>\n",
       "      <th>Insurance Id</th>\n",
       "      <th>...</th>\n",
       "      <th>Temperature</th>\n",
       "      <th>BP</th>\n",
       "      <th>Heart Rate</th>\n",
       "      <th>Heart Issues</th>\n",
       "      <th>Diabetic</th>\n",
       "      <th>Cancer</th>\n",
       "      <th>Medicine Name</th>\n",
       "      <th>Dose</th>\n",
       "      <th>Route</th>\n",
       "      <th>Frequency</th>\n",
       "    </tr>\n",
       "  </thead>\n",
       "  <tbody>\n",
       "    <tr>\n",
       "      <th>0</th>\n",
       "      <td>Test 1</td>\n",
       "      <td>1112356789</td>\n",
       "      <td>33</td>\n",
       "      <td>M</td>\n",
       "      <td>NaN</td>\n",
       "      <td>XYZ 123</td>\n",
       "      <td>None</td>\n",
       "      <td>NaN</td>\n",
       "      <td>Medicare</td>\n",
       "      <td>ABJ789898</td>\n",
       "      <td>...</td>\n",
       "      <td>99</td>\n",
       "      <td>120/70</td>\n",
       "      <td>77</td>\n",
       "      <td>N</td>\n",
       "      <td>Y</td>\n",
       "      <td>N</td>\n",
       "      <td>None</td>\n",
       "      <td>NaN</td>\n",
       "      <td>NaN</td>\n",
       "      <td>NaN</td>\n",
       "    </tr>\n",
       "    <tr>\n",
       "      <th>1</th>\n",
       "      <td>Test 2</td>\n",
       "      <td>1112356790</td>\n",
       "      <td>43</td>\n",
       "      <td>F</td>\n",
       "      <td>No</td>\n",
       "      <td>CVV 234</td>\n",
       "      <td>Peanuts</td>\n",
       "      <td>cough</td>\n",
       "      <td>Medicaid</td>\n",
       "      <td>DFG23456</td>\n",
       "      <td>...</td>\n",
       "      <td>102</td>\n",
       "      <td>110/80</td>\n",
       "      <td>90</td>\n",
       "      <td>Y</td>\n",
       "      <td>N</td>\n",
       "      <td>N</td>\n",
       "      <td>None</td>\n",
       "      <td>NaN</td>\n",
       "      <td>NaN</td>\n",
       "      <td>NaN</td>\n",
       "    </tr>\n",
       "    <tr>\n",
       "      <th>2</th>\n",
       "      <td>Test 3</td>\n",
       "      <td>1112356791</td>\n",
       "      <td>45</td>\n",
       "      <td>F</td>\n",
       "      <td>No</td>\n",
       "      <td>BBG 345</td>\n",
       "      <td>None</td>\n",
       "      <td>NaN</td>\n",
       "      <td>Star Health</td>\n",
       "      <td>HGF78898</td>\n",
       "      <td>...</td>\n",
       "      <td>100</td>\n",
       "      <td>90/60</td>\n",
       "      <td>80</td>\n",
       "      <td>Y</td>\n",
       "      <td>Y</td>\n",
       "      <td>N</td>\n",
       "      <td>Ace</td>\n",
       "      <td>10 mg</td>\n",
       "      <td>Mouth</td>\n",
       "      <td>1.0</td>\n",
       "    </tr>\n",
       "    <tr>\n",
       "      <th>3</th>\n",
       "      <td>Test 4</td>\n",
       "      <td>1112356792</td>\n",
       "      <td>12</td>\n",
       "      <td>M</td>\n",
       "      <td>NaN</td>\n",
       "      <td>BBG 346</td>\n",
       "      <td>Dog</td>\n",
       "      <td>fever</td>\n",
       "      <td>Star Health</td>\n",
       "      <td>HGF78899</td>\n",
       "      <td>...</td>\n",
       "      <td>99</td>\n",
       "      <td>100/70</td>\n",
       "      <td>67</td>\n",
       "      <td>N</td>\n",
       "      <td>Y</td>\n",
       "      <td>N</td>\n",
       "      <td>Alb</td>\n",
       "      <td>25 ml</td>\n",
       "      <td>Injection</td>\n",
       "      <td>2.0</td>\n",
       "    </tr>\n",
       "    <tr>\n",
       "      <th>4</th>\n",
       "      <td>Test 5</td>\n",
       "      <td>1112356793</td>\n",
       "      <td>54</td>\n",
       "      <td>O</td>\n",
       "      <td>NaN</td>\n",
       "      <td>BBG 347</td>\n",
       "      <td>Meat</td>\n",
       "      <td>sneeze</td>\n",
       "      <td>Medicare</td>\n",
       "      <td>ABJ789899</td>\n",
       "      <td>...</td>\n",
       "      <td>99</td>\n",
       "      <td>140/100</td>\n",
       "      <td>90</td>\n",
       "      <td>N</td>\n",
       "      <td>N</td>\n",
       "      <td>N</td>\n",
       "      <td>None</td>\n",
       "      <td>NaN</td>\n",
       "      <td>NaN</td>\n",
       "      <td>NaN</td>\n",
       "    </tr>\n",
       "  </tbody>\n",
       "</table>\n",
       "<p>5 rows × 25 columns</p>\n",
       "</div>"
      ],
      "text/plain": [
       "  Patient Name         SSN  Age Gender Pregnant  Address Allergy With  \\\n",
       "0       Test 1  1112356789   33      M      NaN  XYZ 123         None   \n",
       "1       Test 2  1112356790   43      F       No  CVV 234      Peanuts   \n",
       "2       Test 3  1112356791   45      F       No  BBG 345         None   \n",
       "3       Test 4  1112356792   12      M      NaN  BBG 346          Dog   \n",
       "4       Test 5  1112356793   54      O      NaN  BBG 347         Meat   \n",
       "\n",
       "  Allergy Affects Insurance Name Insurance Id  ... Temperature       BP  \\\n",
       "0             NaN       Medicare    ABJ789898  ...          99   120/70   \n",
       "1           cough       Medicaid     DFG23456  ...         102   110/80   \n",
       "2             NaN    Star Health     HGF78898  ...         100    90/60   \n",
       "3           fever    Star Health     HGF78899  ...          99   100/70   \n",
       "4          sneeze       Medicare    ABJ789899  ...          99  140/100   \n",
       "\n",
       "  Heart Rate Heart Issues Diabetic  Cancer Medicine Name   Dose      Route  \\\n",
       "0         77            N        Y       N          None    NaN        NaN   \n",
       "1         90            Y        N       N          None    NaN        NaN   \n",
       "2         80            Y        Y       N           Ace  10 mg      Mouth   \n",
       "3         67            N        Y       N           Alb  25 ml  Injection   \n",
       "4         90            N        N       N          None    NaN        NaN   \n",
       "\n",
       "  Frequency  \n",
       "0       NaN  \n",
       "1       NaN  \n",
       "2       1.0  \n",
       "3       2.0  \n",
       "4       NaN  \n",
       "\n",
       "[5 rows x 25 columns]"
      ]
     },
     "execution_count": 6,
     "metadata": {},
     "output_type": "execute_result"
    }
   ],
   "source": [
    "my_data.head()"
   ]
  },
  {
   "cell_type": "code",
   "execution_count": 7,
   "metadata": {},
   "outputs": [],
   "source": [
    "## we have to remove / in BP column and make it 2 seperate columns BP_Systolic BP_Diastloic"
   ]
  },
  {
   "cell_type": "code",
   "execution_count": 8,
   "metadata": {},
   "outputs": [],
   "source": [
    "## BP variable is in the form 120/80  so we have do 2 seperate columns , 120 and 80 in each"
   ]
  },
  {
   "cell_type": "code",
   "execution_count": 9,
   "metadata": {},
   "outputs": [
    {
     "data": {
      "text/plain": [
       "0     120/70\n",
       "1     110/80\n",
       "2      90/60\n",
       "3     100/70\n",
       "4    140/100\n",
       "Name: BP, dtype: object"
      ]
     },
     "execution_count": 9,
     "metadata": {},
     "output_type": "execute_result"
    }
   ],
   "source": [
    "my_data[\"BP\"][:5]"
   ]
  },
  {
   "cell_type": "code",
   "execution_count": 10,
   "metadata": {},
   "outputs": [],
   "source": [
    "BP_Systolic=[]\n",
    "BP_Diastloic=[]\n",
    "for i in range(0,25):\n",
    "    output=my_data[\"BP\"][i].split('/',1)\n",
    "    BP_Systolic.append(output[0])\n",
    "    BP_Diastloic.append(output[1])"
   ]
  },
  {
   "cell_type": "code",
   "execution_count": 11,
   "metadata": {},
   "outputs": [
    {
     "data": {
      "text/plain": [
       "['120', '110', '90', '100', '140', '150', '100', '120', '100', '110']"
      ]
     },
     "execution_count": 11,
     "metadata": {},
     "output_type": "execute_result"
    }
   ],
   "source": [
    "BP_Systolic[:10]"
   ]
  },
  {
   "cell_type": "code",
   "execution_count": 12,
   "metadata": {},
   "outputs": [
    {
     "data": {
      "text/plain": [
       "25"
      ]
     },
     "execution_count": 12,
     "metadata": {},
     "output_type": "execute_result"
    }
   ],
   "source": [
    "len(BP_Diastloic)"
   ]
  },
  {
   "cell_type": "code",
   "execution_count": 13,
   "metadata": {},
   "outputs": [],
   "source": [
    "my_data[\"BP_Diastloic\"]=BP_Diastloic"
   ]
  },
  {
   "cell_type": "code",
   "execution_count": 14,
   "metadata": {},
   "outputs": [],
   "source": [
    "my_data[\"BP_Systolic\"]=BP_Systolic"
   ]
  },
  {
   "cell_type": "code",
   "execution_count": 15,
   "metadata": {},
   "outputs": [],
   "source": [
    "my_data=my_data.drop(\"BP\",1)    #dropping the BP column"
   ]
  },
  {
   "cell_type": "code",
   "execution_count": 16,
   "metadata": {},
   "outputs": [
    {
     "data": {
      "text/plain": [
       "Index(['Patient Name', 'SSN', 'Age', 'Gender', 'Pregnant', 'Address',\n",
       "       'Allergy With', 'Allergy Affects', 'Insurance Name', 'Insurance Id',\n",
       "       'Health issue', 'Patient Type', 'Order Name', 'Order Set name',\n",
       "       'Order Type', 'Temperature', 'Heart Rate', 'Heart Issues', 'Diabetic',\n",
       "       'Cancer', 'Medicine Name', 'Dose', 'Route', 'Frequency', 'BP_Diastloic',\n",
       "       'BP_Systolic'],\n",
       "      dtype='object')"
      ]
     },
     "execution_count": 16,
     "metadata": {},
     "output_type": "execute_result"
    }
   ],
   "source": [
    "my_data.columns"
   ]
  },
  {
   "cell_type": "code",
   "execution_count": 17,
   "metadata": {},
   "outputs": [],
   "source": [
    "# dose we have ml and mg so seperate into 2 columns"
   ]
  },
  {
   "cell_type": "code",
   "execution_count": 18,
   "metadata": {},
   "outputs": [
    {
     "data": {
      "text/plain": [
       "0      NaN\n",
       "1      NaN\n",
       "2    10 mg\n",
       "3    25 ml\n",
       "4      NaN\n",
       "Name: Dose, dtype: object"
      ]
     },
     "execution_count": 18,
     "metadata": {},
     "output_type": "execute_result"
    }
   ],
   "source": [
    "my_data[\"Dose\"][:5]"
   ]
  },
  {
   "cell_type": "code",
   "execution_count": 19,
   "metadata": {},
   "outputs": [],
   "source": [
    "mg_data=[]\n",
    "ml_data=[]\n",
    "ml_output=[]"
   ]
  },
  {
   "cell_type": "code",
   "execution_count": 20,
   "metadata": {},
   "outputs": [],
   "source": [
    "for i in range(0,25):\n",
    "    if str(my_data[\"Dose\"][i]).endswith(\"ml\"):\n",
    "        ml_data.append(my_data[\"Dose\"][i])\n",
    "    else:\n",
    "        ml_data.append(\"NA\")\n"
   ]
  },
  {
   "cell_type": "code",
   "execution_count": 21,
   "metadata": {},
   "outputs": [
    {
     "data": {
      "text/plain": [
       "25"
      ]
     },
     "execution_count": 21,
     "metadata": {},
     "output_type": "execute_result"
    }
   ],
   "source": [
    "len(ml_data)"
   ]
  },
  {
   "cell_type": "code",
   "execution_count": 22,
   "metadata": {},
   "outputs": [],
   "source": [
    "for i in range(0,25):\n",
    "    if str(my_data[\"Dose\"][i]).endswith(\"mg\"):\n",
    "        mg_data.append(my_data[\"Dose\"][i])\n",
    "    else:\n",
    "        mg_data.append(\"NA\")"
   ]
  },
  {
   "cell_type": "code",
   "execution_count": 23,
   "metadata": {},
   "outputs": [],
   "source": [
    "#mg_data"
   ]
  },
  {
   "cell_type": "code",
   "execution_count": 24,
   "metadata": {},
   "outputs": [],
   "source": [
    "my_data_filter=pd.DataFrame({\"mg_data\":mg_data,\"ml_data\":ml_data})"
   ]
  },
  {
   "cell_type": "code",
   "execution_count": 25,
   "metadata": {},
   "outputs": [],
   "source": [
    "#my_data_filter"
   ]
  },
  {
   "cell_type": "code",
   "execution_count": 26,
   "metadata": {},
   "outputs": [],
   "source": [
    "mg_list=[]\n",
    "ml_list=[]"
   ]
  },
  {
   "cell_type": "code",
   "execution_count": 27,
   "metadata": {},
   "outputs": [],
   "source": [
    "for i in range(0,25):\n",
    "    output=my_data_filter[\"mg_data\"][i].replace('mg',\"\")\n",
    "    mg_list.append(output)"
   ]
  },
  {
   "cell_type": "code",
   "execution_count": 28,
   "metadata": {},
   "outputs": [
    {
     "data": {
      "text/plain": [
       "25"
      ]
     },
     "execution_count": 28,
     "metadata": {},
     "output_type": "execute_result"
    }
   ],
   "source": [
    "len(mg_list)"
   ]
  },
  {
   "cell_type": "code",
   "execution_count": 29,
   "metadata": {},
   "outputs": [],
   "source": [
    "for i in range(0,25):\n",
    "    output=my_data_filter[\"ml_data\"][i].replace('ml',\"\")\n",
    "    ml_list.append(output)"
   ]
  },
  {
   "cell_type": "code",
   "execution_count": 30,
   "metadata": {},
   "outputs": [
    {
     "data": {
      "text/plain": [
       "25"
      ]
     },
     "execution_count": 30,
     "metadata": {},
     "output_type": "execute_result"
    }
   ],
   "source": [
    "len(ml_list)"
   ]
  },
  {
   "cell_type": "code",
   "execution_count": 31,
   "metadata": {},
   "outputs": [],
   "source": [
    "my_data[\"Dose_in_ml\"]=ml_list\n",
    "my_data[\"Dose_in_mg\"]=mg_list"
   ]
  },
  {
   "cell_type": "code",
   "execution_count": 32,
   "metadata": {},
   "outputs": [],
   "source": [
    "my_data=my_data.drop(\"Dose\",1)"
   ]
  },
  {
   "cell_type": "code",
   "execution_count": 33,
   "metadata": {},
   "outputs": [],
   "source": [
    "# In order type we have multiple orders in one columns so split and make each column for medicine,Diagnostic and  others"
   ]
  },
  {
   "cell_type": "code",
   "execution_count": 34,
   "metadata": {},
   "outputs": [
    {
     "data": {
      "text/plain": [
       "Medicine                        14\n",
       "Medicine , Diagnostic            6\n",
       "Other                            3\n",
       "Diagnostic                       1\n",
       "Medicine , Diagnostic, Other     1\n",
       "Name: Order Type, dtype: int64"
      ]
     },
     "execution_count": 34,
     "metadata": {},
     "output_type": "execute_result"
    }
   ],
   "source": [
    "my_data[\"Order Type\"].value_counts()"
   ]
  },
  {
   "cell_type": "code",
   "execution_count": 35,
   "metadata": {},
   "outputs": [],
   "source": [
    "med=[]\n",
    "Dia=[]\n",
    "others=[]\n"
   ]
  },
  {
   "cell_type": "code",
   "execution_count": 36,
   "metadata": {},
   "outputs": [],
   "source": [
    "for i in range(0,25):\n",
    "    if my_data[\"Order Type\"][i] in [\"Medicine\",\"Medicine , Diagnostic\",\"Medicine , Diagnostic, Other\"]:\n",
    "        med.append(\"Y\")\n",
    "    else:\n",
    "        med.append(\"NA\")"
   ]
  },
  {
   "cell_type": "code",
   "execution_count": 37,
   "metadata": {},
   "outputs": [],
   "source": [
    "#med"
   ]
  },
  {
   "cell_type": "code",
   "execution_count": 38,
   "metadata": {},
   "outputs": [],
   "source": [
    "for i in range(0,25):\n",
    "    if my_data[\"Order Type\"][i] in [\"Diagnostic\",\"Medicine , Diagnostic\",\"Medicine , Diagnostic, Other\"]:\n",
    "        Dia.append(\"Y\")\n",
    "    else:\n",
    "        Dia.append(\"NA\")"
   ]
  },
  {
   "cell_type": "code",
   "execution_count": 39,
   "metadata": {},
   "outputs": [],
   "source": [
    "#Dia"
   ]
  },
  {
   "cell_type": "code",
   "execution_count": 40,
   "metadata": {},
   "outputs": [],
   "source": [
    "for i in range(0,25):\n",
    "    if my_data[\"Order Type\"][i] in [\"Other\",\"Medicine , Diagnostic, Other\"]:\n",
    "        others.append(\"Y\")\n",
    "    else:\n",
    "        others.append(\"NA\")"
   ]
  },
  {
   "cell_type": "code",
   "execution_count": 41,
   "metadata": {},
   "outputs": [],
   "source": [
    "#others"
   ]
  },
  {
   "cell_type": "code",
   "execution_count": 42,
   "metadata": {},
   "outputs": [],
   "source": [
    "my_data[\"Diagnostic\"]=Dia\n",
    "my_data[\"Medicine\"]=med\n",
    "my_data[\"Other\"]=others"
   ]
  },
  {
   "cell_type": "code",
   "execution_count": 43,
   "metadata": {},
   "outputs": [
    {
     "data": {
      "text/html": [
       "<div>\n",
       "<style scoped>\n",
       "    .dataframe tbody tr th:only-of-type {\n",
       "        vertical-align: middle;\n",
       "    }\n",
       "\n",
       "    .dataframe tbody tr th {\n",
       "        vertical-align: top;\n",
       "    }\n",
       "\n",
       "    .dataframe thead th {\n",
       "        text-align: right;\n",
       "    }\n",
       "</style>\n",
       "<table border=\"1\" class=\"dataframe\">\n",
       "  <thead>\n",
       "    <tr style=\"text-align: right;\">\n",
       "      <th></th>\n",
       "      <th>Patient Name</th>\n",
       "      <th>SSN</th>\n",
       "      <th>Age</th>\n",
       "      <th>Gender</th>\n",
       "      <th>Pregnant</th>\n",
       "      <th>Address</th>\n",
       "      <th>Allergy With</th>\n",
       "      <th>Allergy Affects</th>\n",
       "      <th>Insurance Name</th>\n",
       "      <th>Insurance Id</th>\n",
       "      <th>...</th>\n",
       "      <th>Medicine Name</th>\n",
       "      <th>Route</th>\n",
       "      <th>Frequency</th>\n",
       "      <th>BP_Diastloic</th>\n",
       "      <th>BP_Systolic</th>\n",
       "      <th>Dose_in_ml</th>\n",
       "      <th>Dose_in_mg</th>\n",
       "      <th>Diagnostic</th>\n",
       "      <th>Medicine</th>\n",
       "      <th>Other</th>\n",
       "    </tr>\n",
       "  </thead>\n",
       "  <tbody>\n",
       "    <tr>\n",
       "      <th>0</th>\n",
       "      <td>Test 1</td>\n",
       "      <td>1112356789</td>\n",
       "      <td>33</td>\n",
       "      <td>M</td>\n",
       "      <td>NaN</td>\n",
       "      <td>XYZ 123</td>\n",
       "      <td>None</td>\n",
       "      <td>NaN</td>\n",
       "      <td>Medicare</td>\n",
       "      <td>ABJ789898</td>\n",
       "      <td>...</td>\n",
       "      <td>None</td>\n",
       "      <td>NaN</td>\n",
       "      <td>NaN</td>\n",
       "      <td>70</td>\n",
       "      <td>120</td>\n",
       "      <td>NA</td>\n",
       "      <td>NA</td>\n",
       "      <td>Y</td>\n",
       "      <td>NA</td>\n",
       "      <td>NA</td>\n",
       "    </tr>\n",
       "    <tr>\n",
       "      <th>1</th>\n",
       "      <td>Test 2</td>\n",
       "      <td>1112356790</td>\n",
       "      <td>43</td>\n",
       "      <td>F</td>\n",
       "      <td>No</td>\n",
       "      <td>CVV 234</td>\n",
       "      <td>Peanuts</td>\n",
       "      <td>cough</td>\n",
       "      <td>Medicaid</td>\n",
       "      <td>DFG23456</td>\n",
       "      <td>...</td>\n",
       "      <td>None</td>\n",
       "      <td>NaN</td>\n",
       "      <td>NaN</td>\n",
       "      <td>80</td>\n",
       "      <td>110</td>\n",
       "      <td>NA</td>\n",
       "      <td>NA</td>\n",
       "      <td>NA</td>\n",
       "      <td>Y</td>\n",
       "      <td>NA</td>\n",
       "    </tr>\n",
       "    <tr>\n",
       "      <th>2</th>\n",
       "      <td>Test 3</td>\n",
       "      <td>1112356791</td>\n",
       "      <td>45</td>\n",
       "      <td>F</td>\n",
       "      <td>No</td>\n",
       "      <td>BBG 345</td>\n",
       "      <td>None</td>\n",
       "      <td>NaN</td>\n",
       "      <td>Star Health</td>\n",
       "      <td>HGF78898</td>\n",
       "      <td>...</td>\n",
       "      <td>Ace</td>\n",
       "      <td>Mouth</td>\n",
       "      <td>1.0</td>\n",
       "      <td>60</td>\n",
       "      <td>90</td>\n",
       "      <td>NA</td>\n",
       "      <td>10</td>\n",
       "      <td>Y</td>\n",
       "      <td>Y</td>\n",
       "      <td>NA</td>\n",
       "    </tr>\n",
       "    <tr>\n",
       "      <th>3</th>\n",
       "      <td>Test 4</td>\n",
       "      <td>1112356792</td>\n",
       "      <td>12</td>\n",
       "      <td>M</td>\n",
       "      <td>NaN</td>\n",
       "      <td>BBG 346</td>\n",
       "      <td>Dog</td>\n",
       "      <td>fever</td>\n",
       "      <td>Star Health</td>\n",
       "      <td>HGF78899</td>\n",
       "      <td>...</td>\n",
       "      <td>Alb</td>\n",
       "      <td>Injection</td>\n",
       "      <td>2.0</td>\n",
       "      <td>70</td>\n",
       "      <td>100</td>\n",
       "      <td>25</td>\n",
       "      <td>NA</td>\n",
       "      <td>NA</td>\n",
       "      <td>Y</td>\n",
       "      <td>NA</td>\n",
       "    </tr>\n",
       "    <tr>\n",
       "      <th>4</th>\n",
       "      <td>Test 5</td>\n",
       "      <td>1112356793</td>\n",
       "      <td>54</td>\n",
       "      <td>O</td>\n",
       "      <td>NaN</td>\n",
       "      <td>BBG 347</td>\n",
       "      <td>Meat</td>\n",
       "      <td>sneeze</td>\n",
       "      <td>Medicare</td>\n",
       "      <td>ABJ789899</td>\n",
       "      <td>...</td>\n",
       "      <td>None</td>\n",
       "      <td>NaN</td>\n",
       "      <td>NaN</td>\n",
       "      <td>100</td>\n",
       "      <td>140</td>\n",
       "      <td>NA</td>\n",
       "      <td>NA</td>\n",
       "      <td>NA</td>\n",
       "      <td>Y</td>\n",
       "      <td>NA</td>\n",
       "    </tr>\n",
       "  </tbody>\n",
       "</table>\n",
       "<p>5 rows × 30 columns</p>\n",
       "</div>"
      ],
      "text/plain": [
       "  Patient Name         SSN  Age Gender Pregnant  Address Allergy With  \\\n",
       "0       Test 1  1112356789   33      M      NaN  XYZ 123         None   \n",
       "1       Test 2  1112356790   43      F       No  CVV 234      Peanuts   \n",
       "2       Test 3  1112356791   45      F       No  BBG 345         None   \n",
       "3       Test 4  1112356792   12      M      NaN  BBG 346          Dog   \n",
       "4       Test 5  1112356793   54      O      NaN  BBG 347         Meat   \n",
       "\n",
       "  Allergy Affects Insurance Name Insurance Id  ... Medicine Name      Route  \\\n",
       "0             NaN       Medicare    ABJ789898  ...          None        NaN   \n",
       "1           cough       Medicaid     DFG23456  ...          None        NaN   \n",
       "2             NaN    Star Health     HGF78898  ...           Ace      Mouth   \n",
       "3           fever    Star Health     HGF78899  ...           Alb  Injection   \n",
       "4          sneeze       Medicare    ABJ789899  ...          None        NaN   \n",
       "\n",
       "  Frequency BP_Diastloic BP_Systolic  Dose_in_ml  Dose_in_mg Diagnostic  \\\n",
       "0       NaN           70         120          NA          NA          Y   \n",
       "1       NaN           80         110          NA          NA         NA   \n",
       "2       1.0           60          90          NA         10           Y   \n",
       "3       2.0           70         100         25           NA         NA   \n",
       "4       NaN          100         140          NA          NA         NA   \n",
       "\n",
       "  Medicine Other  \n",
       "0       NA    NA  \n",
       "1        Y    NA  \n",
       "2        Y    NA  \n",
       "3        Y    NA  \n",
       "4        Y    NA  \n",
       "\n",
       "[5 rows x 30 columns]"
      ]
     },
     "execution_count": 43,
     "metadata": {},
     "output_type": "execute_result"
    }
   ],
   "source": [
    "my_data.head()"
   ]
  },
  {
   "cell_type": "code",
   "execution_count": 44,
   "metadata": {},
   "outputs": [],
   "source": [
    "my_data=my_data.drop(\"Order Type\",1)"
   ]
  },
  {
   "cell_type": "code",
   "execution_count": 45,
   "metadata": {},
   "outputs": [],
   "source": [
    "## convert categorical to numerical "
   ]
  },
  {
   "cell_type": "code",
   "execution_count": 46,
   "metadata": {},
   "outputs": [
    {
     "data": {
      "text/plain": [
       "NHU                  5\n",
       "BTU, NMU , X- Ray    4\n",
       "Scan, BYU            3\n",
       "Admit                3\n",
       "BTU                  3\n",
       "KMU                  2\n",
       "CBC                  1\n",
       "MKH                  1\n",
       "HGU                  1\n",
       "NUM                  1\n",
       "Kut                  1\n",
       "Name: Order Name, dtype: int64"
      ]
     },
     "execution_count": 46,
     "metadata": {},
     "output_type": "execute_result"
    }
   ],
   "source": [
    "my_data[\"Order Name\"].value_counts()"
   ]
  },
  {
   "cell_type": "code",
   "execution_count": 47,
   "metadata": {},
   "outputs": [],
   "source": [
    "my_data[\"Order Name\"]=pd.factorize(my_data[\"Order Name\"])[0]"
   ]
  },
  {
   "cell_type": "code",
   "execution_count": 48,
   "metadata": {},
   "outputs": [],
   "source": [
    "#my_data[\"Order Name\"]"
   ]
  },
  {
   "cell_type": "code",
   "execution_count": 49,
   "metadata": {},
   "outputs": [],
   "source": [
    "#my_data.columns"
   ]
  },
  {
   "cell_type": "code",
   "execution_count": 50,
   "metadata": {},
   "outputs": [],
   "source": [
    "my_data=my_data[[\"Patient Name\"  ,  \"SSN\",   \"Age\"  , \"Gender\", \"Pregnant\" , \"Address\"   ,  \n",
    " \"Allergy With\"  ,  \"Allergy Affects\" ,\"Insurance Name\",  \"Insurance Id\",   \n",
    " \"Health issue\" ,   \"Patient Type\"  ,  \"Order Name\",      \"Order Set name\", \"Medicine\",     \n",
    " \"Diagnostic\"    ,  \"Other\" , \"Temperature\"  ,  \n",
    " \"BP_Systolic\"    , \"BP_Diastloic\"  ,  \"Heart Rate\"  ,    \"Heart Issues\"  ,  \"Diabetic\"     ,  \n",
    "\"Cancer\" ,  \"Medicine Name\"  ,\"Dose_in_ml\",     \n",
    "\"Dose_in_mg\" ,  \"Route\" ,       \"Frequency\"]]"
   ]
  },
  {
   "cell_type": "code",
   "execution_count": 51,
   "metadata": {},
   "outputs": [
    {
     "data": {
      "text/html": [
       "<div>\n",
       "<style scoped>\n",
       "    .dataframe tbody tr th:only-of-type {\n",
       "        vertical-align: middle;\n",
       "    }\n",
       "\n",
       "    .dataframe tbody tr th {\n",
       "        vertical-align: top;\n",
       "    }\n",
       "\n",
       "    .dataframe thead th {\n",
       "        text-align: right;\n",
       "    }\n",
       "</style>\n",
       "<table border=\"1\" class=\"dataframe\">\n",
       "  <thead>\n",
       "    <tr style=\"text-align: right;\">\n",
       "      <th></th>\n",
       "      <th>Patient Name</th>\n",
       "      <th>SSN</th>\n",
       "      <th>Age</th>\n",
       "      <th>Gender</th>\n",
       "      <th>Pregnant</th>\n",
       "      <th>Address</th>\n",
       "      <th>Allergy With</th>\n",
       "      <th>Allergy Affects</th>\n",
       "      <th>Insurance Name</th>\n",
       "      <th>Insurance Id</th>\n",
       "      <th>...</th>\n",
       "      <th>BP_Diastloic</th>\n",
       "      <th>Heart Rate</th>\n",
       "      <th>Heart Issues</th>\n",
       "      <th>Diabetic</th>\n",
       "      <th>Cancer</th>\n",
       "      <th>Medicine Name</th>\n",
       "      <th>Dose_in_ml</th>\n",
       "      <th>Dose_in_mg</th>\n",
       "      <th>Route</th>\n",
       "      <th>Frequency</th>\n",
       "    </tr>\n",
       "  </thead>\n",
       "  <tbody>\n",
       "    <tr>\n",
       "      <th>0</th>\n",
       "      <td>Test 1</td>\n",
       "      <td>1112356789</td>\n",
       "      <td>33</td>\n",
       "      <td>M</td>\n",
       "      <td>NaN</td>\n",
       "      <td>XYZ 123</td>\n",
       "      <td>None</td>\n",
       "      <td>NaN</td>\n",
       "      <td>Medicare</td>\n",
       "      <td>ABJ789898</td>\n",
       "      <td>...</td>\n",
       "      <td>70</td>\n",
       "      <td>77</td>\n",
       "      <td>N</td>\n",
       "      <td>Y</td>\n",
       "      <td>N</td>\n",
       "      <td>None</td>\n",
       "      <td>NA</td>\n",
       "      <td>NA</td>\n",
       "      <td>NaN</td>\n",
       "      <td>NaN</td>\n",
       "    </tr>\n",
       "    <tr>\n",
       "      <th>1</th>\n",
       "      <td>Test 2</td>\n",
       "      <td>1112356790</td>\n",
       "      <td>43</td>\n",
       "      <td>F</td>\n",
       "      <td>No</td>\n",
       "      <td>CVV 234</td>\n",
       "      <td>Peanuts</td>\n",
       "      <td>cough</td>\n",
       "      <td>Medicaid</td>\n",
       "      <td>DFG23456</td>\n",
       "      <td>...</td>\n",
       "      <td>80</td>\n",
       "      <td>90</td>\n",
       "      <td>Y</td>\n",
       "      <td>N</td>\n",
       "      <td>N</td>\n",
       "      <td>None</td>\n",
       "      <td>NA</td>\n",
       "      <td>NA</td>\n",
       "      <td>NaN</td>\n",
       "      <td>NaN</td>\n",
       "    </tr>\n",
       "    <tr>\n",
       "      <th>2</th>\n",
       "      <td>Test 3</td>\n",
       "      <td>1112356791</td>\n",
       "      <td>45</td>\n",
       "      <td>F</td>\n",
       "      <td>No</td>\n",
       "      <td>BBG 345</td>\n",
       "      <td>None</td>\n",
       "      <td>NaN</td>\n",
       "      <td>Star Health</td>\n",
       "      <td>HGF78898</td>\n",
       "      <td>...</td>\n",
       "      <td>60</td>\n",
       "      <td>80</td>\n",
       "      <td>Y</td>\n",
       "      <td>Y</td>\n",
       "      <td>N</td>\n",
       "      <td>Ace</td>\n",
       "      <td>NA</td>\n",
       "      <td>10</td>\n",
       "      <td>Mouth</td>\n",
       "      <td>1.0</td>\n",
       "    </tr>\n",
       "    <tr>\n",
       "      <th>3</th>\n",
       "      <td>Test 4</td>\n",
       "      <td>1112356792</td>\n",
       "      <td>12</td>\n",
       "      <td>M</td>\n",
       "      <td>NaN</td>\n",
       "      <td>BBG 346</td>\n",
       "      <td>Dog</td>\n",
       "      <td>fever</td>\n",
       "      <td>Star Health</td>\n",
       "      <td>HGF78899</td>\n",
       "      <td>...</td>\n",
       "      <td>70</td>\n",
       "      <td>67</td>\n",
       "      <td>N</td>\n",
       "      <td>Y</td>\n",
       "      <td>N</td>\n",
       "      <td>Alb</td>\n",
       "      <td>25</td>\n",
       "      <td>NA</td>\n",
       "      <td>Injection</td>\n",
       "      <td>2.0</td>\n",
       "    </tr>\n",
       "    <tr>\n",
       "      <th>4</th>\n",
       "      <td>Test 5</td>\n",
       "      <td>1112356793</td>\n",
       "      <td>54</td>\n",
       "      <td>O</td>\n",
       "      <td>NaN</td>\n",
       "      <td>BBG 347</td>\n",
       "      <td>Meat</td>\n",
       "      <td>sneeze</td>\n",
       "      <td>Medicare</td>\n",
       "      <td>ABJ789899</td>\n",
       "      <td>...</td>\n",
       "      <td>100</td>\n",
       "      <td>90</td>\n",
       "      <td>N</td>\n",
       "      <td>N</td>\n",
       "      <td>N</td>\n",
       "      <td>None</td>\n",
       "      <td>NA</td>\n",
       "      <td>NA</td>\n",
       "      <td>NaN</td>\n",
       "      <td>NaN</td>\n",
       "    </tr>\n",
       "  </tbody>\n",
       "</table>\n",
       "<p>5 rows × 29 columns</p>\n",
       "</div>"
      ],
      "text/plain": [
       "  Patient Name         SSN  Age Gender Pregnant  Address Allergy With  \\\n",
       "0       Test 1  1112356789   33      M      NaN  XYZ 123         None   \n",
       "1       Test 2  1112356790   43      F       No  CVV 234      Peanuts   \n",
       "2       Test 3  1112356791   45      F       No  BBG 345         None   \n",
       "3       Test 4  1112356792   12      M      NaN  BBG 346          Dog   \n",
       "4       Test 5  1112356793   54      O      NaN  BBG 347         Meat   \n",
       "\n",
       "  Allergy Affects Insurance Name Insurance Id  ... BP_Diastloic Heart Rate  \\\n",
       "0             NaN       Medicare    ABJ789898  ...           70         77   \n",
       "1           cough       Medicaid     DFG23456  ...           80         90   \n",
       "2             NaN    Star Health     HGF78898  ...           60         80   \n",
       "3           fever    Star Health     HGF78899  ...           70         67   \n",
       "4          sneeze       Medicare    ABJ789899  ...          100         90   \n",
       "\n",
       "   Heart Issues Diabetic Cancer Medicine Name Dose_in_ml  Dose_in_mg  \\\n",
       "0             N        Y      N          None         NA          NA   \n",
       "1             Y        N      N          None         NA          NA   \n",
       "2             Y        Y      N           Ace         NA         10    \n",
       "3             N        Y      N           Alb        25           NA   \n",
       "4             N        N      N          None         NA          NA   \n",
       "\n",
       "       Route Frequency  \n",
       "0        NaN       NaN  \n",
       "1        NaN       NaN  \n",
       "2      Mouth       1.0  \n",
       "3  Injection       2.0  \n",
       "4        NaN       NaN  \n",
       "\n",
       "[5 rows x 29 columns]"
      ]
     },
     "execution_count": 51,
     "metadata": {},
     "output_type": "execute_result"
    }
   ],
   "source": [
    "my_data.head()"
   ]
  },
  {
   "cell_type": "code",
   "execution_count": 52,
   "metadata": {},
   "outputs": [],
   "source": [
    "my_data.to_csv(\"after_cleaning.csv\")"
   ]
  }
 ],
 "metadata": {
  "kernelspec": {
   "display_name": "Python 3",
   "language": "python",
   "name": "python3"
  },
  "language_info": {
   "codemirror_mode": {
    "name": "ipython",
    "version": 3
   },
   "file_extension": ".py",
   "mimetype": "text/x-python",
   "name": "python",
   "nbconvert_exporter": "python",
   "pygments_lexer": "ipython3",
   "version": "3.7.6"
  }
 },
 "nbformat": 4,
 "nbformat_minor": 4
}
